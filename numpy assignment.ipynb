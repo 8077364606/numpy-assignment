{
 "cells": [
  {
   "cell_type": "code",
   "execution_count": 1,
   "id": "1df88ecc-689d-4aba-bb68-95ee28999af2",
   "metadata": {},
   "outputs": [],
   "source": [
    "import numpy as np\n",
    "import pandas as pd"
   ]
  },
  {
   "cell_type": "code",
   "execution_count": 17,
   "id": "cb358000-d9cb-44c6-869d-8c4a2b2ba7da",
   "metadata": {},
   "outputs": [
    {
     "name": "stdout",
     "output_type": "stream",
     "text": [
      "[[0 1 2 3 4 5]] int64\n"
     ]
    }
   ],
   "source": [
    "#1. Create a NumPy array 'arr' of integers from 0 to 5 and print its data type.\n",
    "\n",
    "l = [range(0,6)]\n",
    "arr = np.array(l)\n",
    "print(arr,arr.dtype)"
   ]
  },
  {
   "cell_type": "code",
   "execution_count": 21,
   "id": "d5a48aea-f1fa-4c13-89da-928b3109b7c0",
   "metadata": {},
   "outputs": [
    {
     "name": "stdout",
     "output_type": "stream",
     "text": [
      "[1.5 2.6 3.7] True\n"
     ]
    }
   ],
   "source": [
    "#2. Given a NumPy array 'arr', check if its data type is float64.\n",
    "\n",
    "arr = np.array([1.5, 2.6, 3.7])\n",
    "print(arr,arr.dtype == \"float64\")\n"
   ]
  },
  {
   "cell_type": "code",
   "execution_count": 22,
   "id": "10e56ae3-2160-4d66-92f2-36fb1b70b180",
   "metadata": {},
   "outputs": [
    {
     "data": {
      "text/plain": [
       "array([0.+0.j, 1.+0.j, 2.+0.j])"
      ]
     },
     "execution_count": 22,
     "metadata": {},
     "output_type": "execute_result"
    }
   ],
   "source": [
    "#3. Create a NumPy array 'arr' with a data type of complex128 containing three complex numbers.\n",
    "arr = np.arange(0,3, dtype = \"complex128\")\n",
    "arr"
   ]
  },
  {
   "cell_type": "code",
   "execution_count": 26,
   "id": "ce6e39c3-f747-48b2-8541-9a40329e6f9b",
   "metadata": {},
   "outputs": [
    {
     "data": {
      "text/plain": [
       "array([1., 2., 3., 4., 5.], dtype=float32)"
      ]
     },
     "execution_count": 26,
     "metadata": {},
     "output_type": "execute_result"
    }
   ],
   "source": [
    "#4. Convert an existing NumPy array 'arr' of integers to float32 data type.\n",
    "arr = np.array([1,2,3,4,5])\n",
    "new_array = arr.astype(np.float32)\n",
    "new_array"
   ]
  },
  {
   "cell_type": "code",
   "execution_count": 16,
   "id": "27637ce0-c46a-4062-afb5-be10cb4b38ec",
   "metadata": {},
   "outputs": [
    {
     "name": "stdout",
     "output_type": "stream",
     "text": [
      "array with float64:- [1. 2. 3. 4. 5.] float64\n",
      "coverted array with float32:- [1. 2. 3. 4. 5.] float32\n"
     ]
    }
   ],
   "source": [
    "#5. Given a NumPy array 'arr' with float64 data type, convert it to float32 to reduce decimal precision.\n",
    "arr = np.array([1,2,3,4,5], dtype = \"float64\")\n",
    "print(\"array with float64:-\",arr,arr.dtype)\n",
    "new_arr = arr.astype(np.float32)\n",
    "print(\"coverted array with float32:-\",new_arr,new_arr.dtype)\n"
   ]
  },
  {
   "cell_type": "code",
   "execution_count": 18,
   "id": "859a0bae-dc0c-4d3c-b0e1-d7762a238ff2",
   "metadata": {},
   "outputs": [
    {
     "name": "stdout",
     "output_type": "stream",
     "text": [
      "shape (2, 4)\n",
      "size 8\n",
      "dtype int64\n"
     ]
    }
   ],
   "source": [
    "#6. Write a function array_attributes that takes a NumPy array as input and returns its shape, size, and data type\n",
    "\n",
    "def array_attributes(arr):\n",
    "    shape = arr.shape\n",
    "    size = arr.size\n",
    "    dtype = arr.dtype\n",
    "    return shape,size,dtype\n",
    "\n",
    "arr = np.array([[1,2,3,4],[5,6,7,8]])\n",
    "shape,size,dtype = array_attributes(arr)\n",
    "print(\"shape\",shape)\n",
    "print(\"size\",size)\n",
    "print(\"dtype\",dtype)\n"
   ]
  },
  {
   "cell_type": "code",
   "execution_count": 13,
   "id": "c666d5ea-d9d4-430f-8da9-c2bf6dfa40f3",
   "metadata": {},
   "outputs": [
    {
     "name": "stdout",
     "output_type": "stream",
     "text": [
      "dimenion of array is :-  2\n"
     ]
    }
   ],
   "source": [
    "#7. Create a function array_dimension that takes a NumPy array as input and returns its dimensionalty\n",
    "def array_dimension(arr):\n",
    "    return arr.ndim\n",
    "arr = np.array([[1,2,3],[2,3,4]])\n",
    "print(\"dimenion of array is :- \",array_dimension(arr))\n"
   ]
  },
  {
   "cell_type": "code",
   "execution_count": 15,
   "id": "646fb869-e235-4ed4-aaf7-ee0799540f43",
   "metadata": {},
   "outputs": [
    {
     "name": "stdout",
     "output_type": "stream",
     "text": [
      "itme_size :- 8\n",
      "total_size :- 56\n"
     ]
    }
   ],
   "source": [
    "#8. Design a function item_size_info that takes a NumPy array as input and returns the item size and the total size in bytes.\n",
    "def item_size_info(arr):\n",
    "    item_size = arr.itemsize\n",
    "    total_size = arr.size*item_size\n",
    "    return item_size,total_size\n",
    "\n",
    "arr = np.array([1,2,3,4,5,3,32])\n",
    "item_size,total_size = item_size_info(arr)\n",
    "print(\"itme_size :-\",item_size)\n",
    "print(\"total_size :-\",total_size)"
   ]
  },
  {
   "cell_type": "code",
   "execution_count": 32,
   "id": "d096dc58-9bb1-4b2e-8807-1f560951c94e",
   "metadata": {},
   "outputs": [
    {
     "data": {
      "text/plain": [
       "(8,)"
      ]
     },
     "execution_count": 32,
     "metadata": {},
     "output_type": "execute_result"
    }
   ],
   "source": [
    "#9. Create a function array_strides that takes a NumPy array as input and returns the strides of the array.\n",
    "def array_strides(arr):\n",
    "    return arr.strides\n",
    "\n",
    "arr = np.arange(1,100,1)\n",
    "array_strides(arr)"
   ]
  },
  {
   "cell_type": "code",
   "execution_count": 3,
   "id": "d0826def-cea5-49ee-82e7-7f24897c9192",
   "metadata": {},
   "outputs": [
    {
     "name": "stdout",
     "output_type": "stream",
     "text": [
      "strides :- (9,)\n",
      "shape :-  (8,)\n"
     ]
    }
   ],
   "source": [
    "#10. Design a function shape_stride_relationship that takes a NumPy array as input and returns the shape and strides of the array .\n",
    "def array_stride_relationship(arr):\n",
    "    strides = arr.strides\n",
    "    shape = arr.shape\n",
    "    return shape,strides\n",
    "arr = np.array([1,2,3,4,5,6,7,8,9])\n",
    "strides,shape = array_stride_relationship(arr)\n",
    "print(\"strides :-\",strides)\n",
    "print(\"shape :- \",shape)\n",
    "\n"
   ]
  },
  {
   "cell_type": "code",
   "execution_count": 9,
   "id": "7fceecde-523b-46e2-b4e1-2f9a6700b098",
   "metadata": {},
   "outputs": [
    {
     "name": "stdout",
     "output_type": "stream",
     "text": [
      "numpy array of zeros element :- [0. 0. 0. 0. 0.]\n"
     ]
    }
   ],
   "source": [
    "\"\"\"11. Create a function `create_zeros_array` that takes an integer `n` as input and returns a NumPy array of\n",
    "zeros with `n` elements. \"\"\"\n",
    "\n",
    "def create_zeros_array(arr):\n",
    "    return np.zeros(arr)\n",
    "\n",
    "print(\"numpy array of zeros element :-\",create_zeros_array(5))"
   ]
  },
  {
   "cell_type": "code",
   "execution_count": 15,
   "id": "b8bcf4f8-c696-4b9e-9ffb-c135eb457083",
   "metadata": {},
   "outputs": [
    {
     "data": {
      "text/plain": [
       "matrix([[1., 1., 1.],\n",
       "        [1., 1., 1.],\n",
       "        [1., 1., 1.]])"
      ]
     },
     "execution_count": 15,
     "metadata": {},
     "output_type": "execute_result"
    }
   ],
   "source": [
    "\"\"\"12. Write a function `create_ones_matrix` that takes integers `rows` and `cols` as inputs and generates a 2D\n",
    "NumPy array filled with ones of size `rows x cols`.\"\"\"\n",
    "def create_ones_matrix(rows,cols):\n",
    "    return np.ones((rows,cols))\n",
    "\n",
    "matrix = np.matrix(create_ones_matrix(3,3))\n",
    "matrix\n",
    "\n"
   ]
  },
  {
   "cell_type": "code",
   "execution_count": 5,
   "id": "7de78bad-234c-4448-a27e-24050e38663d",
   "metadata": {},
   "outputs": [
    {
     "data": {
      "text/plain": [
       "array([ 1,  3,  5,  7,  9, 11, 13, 15, 17, 19, 21, 23, 25, 27, 29, 31, 33,\n",
       "       35, 37, 39, 41, 43, 45, 47, 49, 51, 53, 55, 57, 59, 61, 63, 65, 67,\n",
       "       69, 71, 73, 75, 77, 79, 81, 83, 85, 87, 89, 91, 93, 95, 97, 99])"
      ]
     },
     "execution_count": 5,
     "metadata": {},
     "output_type": "execute_result"
    }
   ],
   "source": [
    "\"\"\"13. Write a function `generate_range_array` that takes three integers start, stop, and step as arguments and\n",
    "creates a NumPy array with a range starting from `start`, ending at stop (exclusive), and with the specified\n",
    "`step`. \"\"\"\n",
    "\n",
    "def generate_range_array(start,stop,step):\n",
    "    return np.arange(start,stop,step)\n",
    "\n",
    "generate_range_array(1,100,2)"
   ]
  },
  {
   "cell_type": "code",
   "execution_count": 7,
   "id": "63458b7b-20af-4374-8005-61b12195f235",
   "metadata": {},
   "outputs": [
    {
     "data": {
      "text/plain": [
       "array([0.        , 0.11111111, 0.22222222, 0.33333333, 0.44444444,\n",
       "       0.55555556, 0.66666667, 0.77777778, 0.88888889, 1.        ])"
      ]
     },
     "execution_count": 7,
     "metadata": {},
     "output_type": "execute_result"
    }
   ],
   "source": [
    "\"\"\"14. Design a function `generate_linear_space` that takes two floats `start`, `stop`, and an integer `num` as\n",
    "arguments and generates a NumPy array with num equally spaced values between `start` and `stop`\n",
    "(inclusive). \"\"\"\n",
    "def generate_linear_space(start,stop,num):\n",
    "    return np.linspace(start,stop,num,)\n",
    "\n",
    "arr = generate_linear_space(0,1,10)\n",
    "arr"
   ]
  },
  {
   "cell_type": "code",
   "execution_count": 9,
   "id": "2ca4ba18-bc23-41a8-8ad4-0d348a21aeb0",
   "metadata": {},
   "outputs": [
    {
     "data": {
      "text/plain": [
       "array([[1., 0., 0.],\n",
       "       [0., 1., 0.],\n",
       "       [0., 0., 1.]])"
      ]
     },
     "execution_count": 9,
     "metadata": {},
     "output_type": "execute_result"
    }
   ],
   "source": [
    "\"\"\"15. Create a function `create_identity_matrix` that takes an integer `n` as input and generates a square\n",
    "identity matrix of size `n x n` using `numpy.eye`. \"\"\"\n",
    "def create_identity_matrix(n):\n",
    "    return np.eye(n)\n",
    "\n",
    "identity_matrix  = create_identity_matrix(3)\n",
    "identity_matrix"
   ]
  },
  {
   "cell_type": "code",
   "execution_count": 3,
   "id": "0ae8d24c-8998-4314-ba8c-ec40845ca37c",
   "metadata": {},
   "outputs": [
    {
     "data": {
      "text/plain": [
       "array(['akash', 'ajay', 'neetesh'], dtype='<U7')"
      ]
     },
     "execution_count": 3,
     "metadata": {},
     "output_type": "execute_result"
    }
   ],
   "source": [
    "\"\"\"16. Write a function that takes a Python list and converts it into a NumPy array.\"\"\"\n",
    "def list_to_array(list):\n",
    "    return np.asanyarray(list)\n",
    "\n",
    "arr = list_to_array(['akash','ajay','neetesh'])\n",
    "arr"
   ]
  },
  {
   "cell_type": "code",
   "execution_count": 5,
   "id": "9e5bbd3d-aae4-4b8e-a15f-7dbd2b6ea9ee",
   "metadata": {},
   "outputs": [
    {
     "name": "stdout",
     "output_type": "stream",
     "text": [
      "[1 2 3 4 5]\n",
      "[1 2 3 4 5]\n",
      "[100   2   3   4   5]\n",
      "[100   2   3   4   5]\n"
     ]
    }
   ],
   "source": [
    "\"\"\"17. Create a NumPy array and demonstrate the use of `numpy.view` to create a new array object with the\n",
    "same data. \"\"\"\n",
    "a = np.array([1,2,3,4,5])\n",
    "print(a)\n",
    "b = a.view()\n",
    "print(b)\n",
    "b[0]=100\n",
    "print(b)\n",
    "print(a)"
   ]
  },
  {
   "cell_type": "code",
   "execution_count": 6,
   "id": "36bca39b-d54a-4de7-8f9b-7ebabeefe48f",
   "metadata": {},
   "outputs": [
    {
     "name": "stdout",
     "output_type": "stream",
     "text": [
      " concaneted array are :- [1 2 3 4 5 6 7 8 9 1 3 5 7 9]\n"
     ]
    }
   ],
   "source": [
    "\"\"\"18. Write a function that takes two NumPy arrays and concatenates them along a specified axis.\"\"\"\n",
    "def concatenate(arr1,arr2):\n",
    "# arr1 = np.array([1,2,3,4])\n",
    "# ar2 = np.array([5,6,7,8])\n",
    "  return np.concatenate((arr1,arr2),axis = 0)\n",
    "\n",
    "arr1 = np.arange(1,10,1)\n",
    "arr2= np.arange(1,10,2)\n",
    "\n",
    "print(\" concaneted array are :-\",concatenate(arr1,arr2))"
   ]
  },
  {
   "cell_type": "code",
   "execution_count": 23,
   "id": "c4adde46-c382-4956-90a8-fc96c8359f31",
   "metadata": {},
   "outputs": [
    {
     "data": {
      "text/plain": [
       "array([[ 1,  2,  3],\n",
       "       [ 4,  5,  6],\n",
       "       [ 7,  8,  9],\n",
       "       [11, 12, 13],\n",
       "       [14, 15, 16],\n",
       "       [17, 18, 19]])"
      ]
     },
     "execution_count": 23,
     "metadata": {},
     "output_type": "execute_result"
    }
   ],
   "source": [
    "\"\"\"19. Create two NumPy arrays with different shapes and concatenate them horizontally using 'numpy'.'concatenate'\"\"\"\n",
    "arr1 = np.arange(1,10,1) \n",
    "arr2= np.arange(11,20,1)\n",
    "arr1 = arr1.reshape((3,3))\n",
    "arr2 = arr2.reshape((3,3))\n",
    "np.concatenate((arr1,arr2), axis = 0)"
   ]
  },
  {
   "cell_type": "code",
   "execution_count": 11,
   "id": "6e0c21ab-e00d-46d8-85f6-7eaeeaf17650",
   "metadata": {},
   "outputs": [
    {
     "data": {
      "text/plain": [
       "array([[1, 2, 3, 4],\n",
       "       [4, 3, 2, 8],\n",
       "       [8, 7, 6, 5]])"
      ]
     },
     "execution_count": 11,
     "metadata": {},
     "output_type": "execute_result"
    }
   ],
   "source": [
    "\"\"\"20. Write a function that vertically stacks multiple NumPy arrays given as a list \"\"\"\n",
    "\n",
    "def vertically_stacks(array):\n",
    "    return np.vstack((array))\n",
    "\n",
    "array =[np.array([1,2,3,4]),np.array([4,3,2,8]),np.array([8,7,6,5])]\n",
    "\n",
    "\n",
    "\n",
    "vertically_stacks(array)"
   ]
  },
  {
   "cell_type": "code",
   "execution_count": 3,
   "id": "6520faa0-bc61-41a2-a27c-a175432922cc",
   "metadata": {},
   "outputs": [
    {
     "data": {
      "text/plain": [
       "array([ 1,  2,  3,  4,  5,  6,  7,  8,  9, 10])"
      ]
     },
     "execution_count": 3,
     "metadata": {},
     "output_type": "execute_result"
    }
   ],
   "source": [
    "\"\"\"21. Write a Python function using NumPy to create an array of integers within a specified range (inclusive)\n",
    "with a given step size.\"\"\"\n",
    "\n",
    "def create_array(start,end,step):\n",
    "    return np.arange(start,end+1,step)\n",
    "\n",
    "arr = create_array(1,10,1)\n",
    "arr"
   ]
  },
  {
   "cell_type": "code",
   "execution_count": 3,
   "id": "aa066967-b687-4c43-b0e8-bccdc69189bb",
   "metadata": {},
   "outputs": [
    {
     "data": {
      "text/plain": [
       "array([0.        , 0.11111111, 0.22222222, 0.33333333, 0.44444444,\n",
       "       0.55555556, 0.66666667, 0.77777778, 0.88888889, 1.        ])"
      ]
     },
     "execution_count": 3,
     "metadata": {},
     "output_type": "execute_result"
    }
   ],
   "source": [
    "\"\"\"22. Write a Python function using NumPy to generate an array of 10 equally spaced values between 0 and 1\n",
    "(inclusive).\"\"\"\n",
    "def generate_array(start,end,space):\n",
    "    return np.linspace(start,end,space)\n",
    "\n",
    "generated_array = generate_array(0,1,10)\n",
    "generated_array "
   ]
  },
  {
   "cell_type": "code",
   "execution_count": 4,
   "id": "65b2d000-586e-449f-a705-0502514f5904",
   "metadata": {},
   "outputs": [
    {
     "name": "stderr",
     "output_type": "stream",
     "text": [
      "/opt/conda/lib/python3.10/site-packages/numpy/core/function_base.py:277: RuntimeWarning: overflow encountered in power\n",
      "  return _nx.power(base, y)\n"
     ]
    },
    {
     "data": {
      "text/plain": [
       "array([1.00000000e+001, 5.62341325e+250,             inf,             inf,\n",
       "                   inf])"
      ]
     },
     "execution_count": 4,
     "metadata": {},
     "output_type": "execute_result"
    }
   ],
   "source": [
    "\"\"\"23. Write a Python function using NumPy to create an array of 5 logarithmically spaced values between 1 and\n",
    "1000 (inclusive).\"\"\"\n",
    "def create_logartmically_array():\n",
    "    return np.logspace(1,1000,5)\n",
    "\n",
    "log_spaced_array = create_logartmically_array()\n",
    "log_spaced_array"
   ]
  },
  {
   "cell_type": "code",
   "execution_count": 13,
   "id": "e3ee3dc5-562e-4743-a118-bff0820bb284",
   "metadata": {},
   "outputs": [
    {
     "data": {
      "text/html": [
       "<div>\n",
       "<style scoped>\n",
       "    .dataframe tbody tr th:only-of-type {\n",
       "        vertical-align: middle;\n",
       "    }\n",
       "\n",
       "    .dataframe tbody tr th {\n",
       "        vertical-align: top;\n",
       "    }\n",
       "\n",
       "    .dataframe thead th {\n",
       "        text-align: right;\n",
       "    }\n",
       "</style>\n",
       "<table border=\"1\" class=\"dataframe\">\n",
       "  <thead>\n",
       "    <tr style=\"text-align: right;\">\n",
       "      <th></th>\n",
       "      <th>0</th>\n",
       "      <th>1</th>\n",
       "      <th>2</th>\n",
       "    </tr>\n",
       "  </thead>\n",
       "  <tbody>\n",
       "    <tr>\n",
       "      <th>0</th>\n",
       "      <td>19</td>\n",
       "      <td>63</td>\n",
       "      <td>50</td>\n",
       "    </tr>\n",
       "    <tr>\n",
       "      <th>1</th>\n",
       "      <td>82</td>\n",
       "      <td>84</td>\n",
       "      <td>27</td>\n",
       "    </tr>\n",
       "    <tr>\n",
       "      <th>2</th>\n",
       "      <td>7</td>\n",
       "      <td>79</td>\n",
       "      <td>57</td>\n",
       "    </tr>\n",
       "    <tr>\n",
       "      <th>3</th>\n",
       "      <td>60</td>\n",
       "      <td>37</td>\n",
       "      <td>6</td>\n",
       "    </tr>\n",
       "    <tr>\n",
       "      <th>4</th>\n",
       "      <td>47</td>\n",
       "      <td>76</td>\n",
       "      <td>82</td>\n",
       "    </tr>\n",
       "  </tbody>\n",
       "</table>\n",
       "</div>"
      ],
      "text/plain": [
       "    0   1   2\n",
       "0  19  63  50\n",
       "1  82  84  27\n",
       "2   7  79  57\n",
       "3  60  37   6\n",
       "4  47  76  82"
      ]
     },
     "execution_count": 13,
     "metadata": {},
     "output_type": "execute_result"
    }
   ],
   "source": [
    "\"\"\"24. Create a Pandas DataFrame using a NumPy array that contains 5 rows and 3 columns, where the values\n",
    "are random integers between 1 and 100.\"\"\"\n",
    "\n",
    "df = np.random.randint(1,100,(5,3))\n",
    "dataframe = pd.DataFrame(df)\n",
    "dataframe"
   ]
  },
  {
   "cell_type": "code",
   "execution_count": 21,
   "id": "e5c661f8-eea2-4494-8ae9-94d65bb23327",
   "metadata": {},
   "outputs": [
    {
     "name": "stdout",
     "output_type": "stream",
     "text": [
      "   A  B\n",
      "0  0  5\n",
      "1  2 -6\n",
      "2  0  7\n",
      "3  4 -8\n",
      "   A  B\n",
      "0  0  5\n",
      "1  2  0\n",
      "2  0  7\n",
      "3  4  0\n"
     ]
    }
   ],
   "source": [
    "\"\"\"25. Write a function that takes a Pandas DataFrame and replaces all negative values in a specific column\n",
    "with zeros. Use NumPy operations within the Pandas DataFrame.\"\"\"\n",
    "\n",
    "def replace_negatives(df, column):\n",
    "    df[column] = np.where(df[column] < 0, 0, df[column])\n",
    "    return df\n",
    "\n",
    "df = pd.DataFrame({'A': [-1, 2, -3, 4,], 'B': [5, -6, 7, -8]})\n",
    "print(replace_negatives(df,'A'))\n",
    "print(replace_negatives(df,'B'))\n",
    "\n"
   ]
  },
  {
   "cell_type": "code",
   "execution_count": 3,
   "id": "933f350a-a58f-4215-9118-4b9ea8443363",
   "metadata": {},
   "outputs": [
    {
     "name": "stdout",
     "output_type": "stream",
     "text": [
      "third element of array is :-  30\n"
     ]
    }
   ],
   "source": [
    "\"\"\"26. Access the 3rd element from the given NumPy array. \"\"\"\n",
    "arr = np.array([10, 20, 30, 40, 50])\n",
    "print(\"third element of array is :- \",arr[2])"
   ]
  },
  {
   "cell_type": "code",
   "execution_count": 8,
   "id": "b63235e8-cd2c-4f61-b110-570c016e51b3",
   "metadata": {},
   "outputs": [
    {
     "name": "stdout",
     "output_type": "stream",
     "text": [
      "elemnent of index (1,2) are :- 6\n"
     ]
    }
   ],
   "source": [
    "\"\"\"27. Retrieve the element at index (1, 2) from the 2D NumPy array.\"\"\"\n",
    "arr_2d = np.array([[1, 2, 3],\n",
    "                   [4, 5, 6],\n",
    "                   [7, 8, 9]])\n",
    "print(\"elemnent of index (1,2) are :-\",arr_2d[1][2])"
   ]
  },
  {
   "cell_type": "code",
   "execution_count": 15,
   "id": "cf9e090a-5d02-4ab0-9169-b35223c120cf",
   "metadata": {},
   "outputs": [
    {
     "data": {
      "text/plain": [
       "array([ 8, 10,  7])"
      ]
     },
     "execution_count": 16,
     "metadata": {},
     "output_type": "execute_result"
    }
   ],
   "source": [
    "\"\"\"28. Using boolean indexing, extract elements greater than 5 from the given NumPy array.\"\"\"\n",
    "arr = np.array([3, 8, 2, 10, 5, 7])\n",
    "a = arr[arr>5]\n",
    "a\n"
   ]
  },
  {
   "cell_type": "code",
   "execution_count": 17,
   "id": "53ce9b95-5251-4c64-b662-e81000331d98",
   "metadata": {},
   "outputs": [
    {
     "data": {
      "text/plain": [
       "array([3, 4, 5])"
      ]
     },
     "execution_count": 17,
     "metadata": {},
     "output_type": "execute_result"
    }
   ],
   "source": [
    "\"\"\"29. Perform basic slicing to extract elements from index 2 to 5 (inclusive) from the given NumPy array.\"\"\"\n",
    "arr = np.array([1, 2, 3, 4, 5, 6, 7, 8, 9])\n",
    "arr[2:5]"
   ]
  },
  {
   "cell_type": "code",
   "execution_count": 32,
   "id": "dd33eec1-c271-4ba4-9604-aad008513405",
   "metadata": {},
   "outputs": [
    {
     "data": {
      "text/plain": [
       "array([[2, 3],\n",
       "       [5, 6]])"
      ]
     },
     "execution_count": 32,
     "metadata": {},
     "output_type": "execute_result"
    }
   ],
   "source": [
    "\"\"\"30. Slice the 2D NumPy array to extract the sub-array `[[2, 3], [5, 6]]` from the given array.\"\"\"\n",
    "arr_2d = np.array([[1, 2, 3],\n",
    "                   [4, 5, 6],\n",
    "                   [7, 8, 9]])\n",
    "a = arr_2d[0:2,[1,2]]\n",
    "a"
   ]
  },
  {
   "cell_type": "code",
   "execution_count": 36,
   "id": "f87e0726-c4c9-4ce4-8c25-eada175140b6",
   "metadata": {},
   "outputs": [
    {
     "data": {
      "text/plain": [
       "array([[4, 5, 7],\n",
       "       [6, 8, 7],\n",
       "       [1, 2, 3],\n",
       "       [4, 5, 6]])"
      ]
     },
     "execution_count": 36,
     "metadata": {},
     "output_type": "execute_result"
    }
   ],
   "source": [
    "\"\"\"31.Write a NumPy function to extract elements in specific order from a given 2D array based on indices\n",
    "provided in another array.\"\"\"\n",
    "def extract_elements(array,indices):\n",
    "    return array[indices]\n",
    "\n",
    "array = np.array([[1,2,3],[4,5,6],[6,8,7],[4,5,7]])\n",
    "indices = np.array([3,2,0,1])\n",
    "\n",
    "arr2 = extract_elements(array,indices)\n",
    "arr2\n"
   ]
  },
  {
   "cell_type": "code",
   "execution_count": 45,
   "id": "8757d793-26d9-418a-a368-2632d15294c0",
   "metadata": {},
   "outputs": [
    {
     "data": {
      "text/plain": [
       "array([3, 4, 5])"
      ]
     },
     "execution_count": 45,
     "metadata": {},
     "output_type": "execute_result"
    }
   ],
   "source": [
    "\"\"\"32. Create a NumPy function that filters elements greater than a threshold from a given 1D array using\n",
    "boolean indexing.\"\"\"\n",
    "def filter_elements(arr,threshold):\n",
    "    return arr[arr>threshold]\n",
    "arr = np.array([1,2,3,4,5])\n",
    "threshold = 2\n",
    "arr2 = filter_elements(arr,threshold)\n",
    "arr2"
   ]
  },
  {
   "cell_type": "code",
   "execution_count": 8,
   "id": "412396c3-0c9c-40c5-82db-9b1155b859d9",
   "metadata": {},
   "outputs": [
    {
     "name": "stdout",
     "output_type": "stream",
     "text": [
      "3D array is:- [[[4 3 6]\n",
      "  [5 9 1]\n",
      "  [8 8 6]]\n",
      "\n",
      " [[8 4 1]\n",
      "  [8 4 8]\n",
      "  [1 1 4]]\n",
      "\n",
      " [[8 3 8]\n",
      "  [6 4 4]\n",
      "  [4 7 5]]]\n",
      "extracted elements are:-  [6 1 4]\n"
     ]
    }
   ],
   "source": [
    "\"\"\"33. Develop a NumPy function that extracts specific elements from a 3D array using indices provided in three\n",
    "separate arrays for each dimension.\"\"\"\n",
    "def extract_elements(arr,indices1,indices2,indices3):\n",
    "    return arr[indices1,indices2,indices3]\n",
    "arr = np.random.randint(1,10,(3,3,3))\n",
    "indices1 = np.array([0,1,2])\n",
    "indices2 = np.array([0,2,1])\n",
    "indices3 = np.array([2,0,1])\n",
    "arr2 = extract_elements(arr,indices1,indices2,indices3)\n",
    "print(\"3D array is:-\",arr)\n",
    "print(\"extracted elements are:- \",arr2)\n",
    "\n"
   ]
  },
  {
   "cell_type": "code",
   "execution_count": 15,
   "id": "3fd78f86-d7ab-41cf-8e65-adf1af9b2a7f",
   "metadata": {},
   "outputs": [
    {
     "data": {
      "text/plain": [
       "array([1, 2, 3, 4, 5, 6, 7, 8, 9])"
      ]
     },
     "execution_count": 15,
     "metadata": {},
     "output_type": "execute_result"
    }
   ],
   "source": [
    "\"\"\"34. Write a NumPy function that returns elements from an array where both two conditions are satisfied\n",
    "using boolean indexing.\"\"\"\n",
    "def return_elements(arr):\n",
    "    return arr[arr>0][arr<10]\n",
    "\n",
    "arr = np.arange(1,20,1)\n",
    "returned_elements = return_elements(arr)\n",
    "returned_elements\n"
   ]
  },
  {
   "cell_type": "code",
   "execution_count": 23,
   "id": "80f9d6bd-9734-40df-abf7-8fbe69aa7022",
   "metadata": {},
   "outputs": [
    {
     "data": {
      "text/plain": [
       "array([2, 7])"
      ]
     },
     "execution_count": 23,
     "metadata": {},
     "output_type": "execute_result"
    }
   ],
   "source": [
    "\"\"\"35. Create a NumPy function that extracts elements from a 2D array using row and column indices provided\n",
    "in separate arrays.\"\"\"\n",
    "\n",
    "def extract_elements(arr,row_ind,col_ind):\n",
    "    arr2 = arr[row_ind,col_ind]\n",
    "\n",
    "    return arr2\n",
    "\n",
    "arr = np.array([[1,2,3,4,5],[4,5,7,6,8]])\n",
    "row_ind = np.array([0,1])\n",
    "col_ind = np.array([1,2])\n",
    "extract_elements(arr,row_ind,col_ind)"
   ]
  },
  {
   "cell_type": "code",
   "execution_count": 31,
   "id": "440c7cb9-a5dd-46e2-9968-88184d1d4d5f",
   "metadata": {},
   "outputs": [
    {
     "name": "stdout",
     "output_type": "stream",
     "text": [
      "original array :- [[6 6 7]\n",
      " [3 8 7]\n",
      " [3 8 2]]\n",
      "array after broadcasting :- [[11 11 12]\n",
      " [ 8 13 12]\n",
      " [ 8 13  7]]\n"
     ]
    }
   ],
   "source": [
    "\"\"\"36. Given an array arr of shape (3, 3), add a scalar value of 5 to each element using NumPy broadcasting.\"\"\"\n",
    "array = np.random.randint(1,10,(3,3))\n",
    "print(\"original array :-\", array)\n",
    "print(\"array after broadcasting :-\", array+5)"
   ]
  },
  {
   "cell_type": "code",
   "execution_count": 21,
   "id": "cc44415a-dd40-4f64-9e9e-a606a67c63e8",
   "metadata": {},
   "outputs": [
    {
     "name": "stdout",
     "output_type": "stream",
     "text": [
      "arr1 is:- [[9 1 4]]\n",
      "arr2 is:- [[8 4 5]\n",
      " [8 2 1]\n",
      " [6 5 7]\n",
      " [5 6 9]]\n"
     ]
    },
    {
     "data": {
      "text/plain": [
       "array([[72,  4, 20],\n",
       "       [72,  2,  4],\n",
       "       [54,  5, 28],\n",
       "       [45,  6, 36]])"
      ]
     },
     "execution_count": 21,
     "metadata": {},
     "output_type": "execute_result"
    }
   ],
   "source": [
    "\"\"\"37. Consider two arrays arr1 of shape (1, 3) and arr2 of shape (3, 4). Multiply each row of arr2 by the\n",
    "corresponding element in arr1 using NumPy broadcasting.\"\"\"\n",
    "arr1 = np.random.randint(1,10,(1,3))\n",
    "arr2 = np.random.randint(1,10,(3,4))\n",
    "arr2 = arr2.reshape(4,3)\n",
    "print(\"arr1 is:-\",arr1)\n",
    "print(\"arr2 is:-\",arr2)\n",
    "arr2*arr1"
   ]
  },
  {
   "cell_type": "code",
   "execution_count": 19,
   "id": "d60ba4b7-8801-4bb1-9cec-f4a0178786b1",
   "metadata": {},
   "outputs": [
    {
     "name": "stdout",
     "output_type": "stream",
     "text": [
      "arr1 is :- [1 2 3 4]\n",
      "arr2 is :- [[1 4 3]\n",
      " [5 4 6]\n",
      " [3 4 5]\n",
      " [8 9 7]]\n"
     ]
    },
    {
     "data": {
      "text/plain": [
       "array([[ 2,  6,  6,  9],\n",
       "       [ 5,  8,  6,  8],\n",
       "       [ 6, 10, 12, 11]])"
      ]
     },
     "execution_count": 19,
     "metadata": {},
     "output_type": "execute_result"
    }
   ],
   "source": [
    "\"\"\"38. Given a 1D array arr1 of shape (1, 4) and a 2D array arr2 of shape (4, 3), add arr1 to each row of arr2 using\n",
    "NumPy broadcasting.\"\"\"\n",
    "arr1 = np.array([1,2,3,4])\n",
    "print(\"arr1 is :-\",arr1)\n",
    "arr2 = np.array([[1,4,3],[5,4,6],[3,4,5],[8,9,7]])\n",
    "print(\"arr2 is :-\",arr2)\n",
    "arr2 = arr2.reshape(3,4)\n",
    "arr1+arr2"
   ]
  },
  {
   "cell_type": "code",
   "execution_count": 15,
   "id": "dad43ab6-e3c5-49b4-917a-361a668c7a87",
   "metadata": {},
   "outputs": [
    {
     "name": "stdout",
     "output_type": "stream",
     "text": [
      "arr1 is :- [[4]\n",
      " [1]\n",
      " [6]]\n",
      "arr2 is :- [[4 9 8]]\n"
     ]
    },
    {
     "data": {
      "text/plain": [
       "array([[ 8, 13, 12],\n",
       "       [ 5, 10,  9],\n",
       "       [10, 15, 14]])"
      ]
     },
     "execution_count": 15,
     "metadata": {},
     "output_type": "execute_result"
    }
   ],
   "source": [
    "\"\"\"39. Consider two arrays arr1 of shape (3, 1) and arr2 of shape (1, 3). Add these arrays using NumPy\n",
    "broadcasting.\"\"\"\n",
    "arr1 = np.random.randint(1,10,(3,1))\n",
    "print(\"arr1 is :-\",arr1)\n",
    "arr2 = np.random.randint(1,10,(1,3))\n",
    "print(\"arr2 is :-\",arr2)\n",
    "arr1+arr2"
   ]
  },
  {
   "cell_type": "code",
   "execution_count": 23,
   "id": "452285d3-17b3-45f2-8683-48ac28a9aef3",
   "metadata": {},
   "outputs": [
    {
     "name": "stdout",
     "output_type": "stream",
     "text": [
      "arr1 is :- [[5]\n",
      " [1]\n",
      " [5]\n",
      " [8]\n",
      " [4]\n",
      " [8]]\n",
      "arr2 is :- [[4 8 6 1]]\n"
     ]
    },
    {
     "data": {
      "text/plain": [
       "array([[20, 40, 30,  5],\n",
       "       [ 4,  8,  6,  1],\n",
       "       [20, 40, 30,  5],\n",
       "       [32, 64, 48,  8],\n",
       "       [16, 32, 24,  4],\n",
       "       [32, 64, 48,  8]])"
      ]
     },
     "execution_count": 23,
     "metadata": {},
     "output_type": "execute_result"
    }
   ],
   "source": [
    "\"\"\"40. Given arrays arr1 of shape (2, 3) and arr2 of shape (2, 2), perform multiplication using NumPy\n",
    "broadcasting. Handle the shape incompatibility\"\"\"\n",
    "arr1 = np.random.randint(1,10,(2,3))\n",
    "arr1 = arr1.reshape(6,1)\n",
    "print(\"arr1 is :-\",arr1)\n",
    "arr2 = np.random.randint(1,10,(2,2))\n",
    "arr2 = arr2.reshape(1,4)\n",
    "print(\"arr2 is :-\",arr2)\n",
    "arr1*arr2\n"
   ]
  },
  {
   "cell_type": "code",
   "execution_count": 26,
   "id": "5ab97e2a-2b36-4886-ab6b-0889f2e9995e",
   "metadata": {},
   "outputs": [
    {
     "data": {
      "text/plain": [
       "array([2.5, 3.5, 4.5])"
      ]
     },
     "execution_count": 26,
     "metadata": {},
     "output_type": "execute_result"
    }
   ],
   "source": [
    "\"\"\"41. Calculate column wise mean for the given array:\"\"\"\n",
    "arr = np.array([[1, 2, 3], [4, 5, 6]])\n",
    "#np.mean(arr,axis=0)\n",
    "arr.mean(axis = 0)"
   ]
  },
  {
   "cell_type": "code",
   "execution_count": 28,
   "id": "9536e7f5-7617-4a3e-a7ed-c2e2ba6d6b04",
   "metadata": {},
   "outputs": [
    {
     "data": {
      "text/plain": [
       "array([3, 6])"
      ]
     },
     "execution_count": 28,
     "metadata": {},
     "output_type": "execute_result"
    }
   ],
   "source": [
    "\"\"\"42. Find maximum value in each row of the given array:\"\"\"\n",
    "arr = np.array([[1, 2, 3], [4, 5, 6]])\n",
    "#np.max(arr,axis=1)\n",
    "arr.max(axis=1)"
   ]
  },
  {
   "cell_type": "code",
   "execution_count": 38,
   "id": "45ef5250-4139-4fba-8c0f-e37d9daf9f47",
   "metadata": {},
   "outputs": [
    {
     "data": {
      "text/plain": [
       "array([1, 1, 1])"
      ]
     },
     "execution_count": 38,
     "metadata": {},
     "output_type": "execute_result"
    }
   ],
   "source": [
    "\"\"\"43. For the given array, find indices of maximum value in each column. \"\"\"\n",
    "arr = np.array([[1, 2, 3], [4, 5, 6]])\n",
    "\n",
    "np.argmax(arr,axis=0)"
   ]
  },
  {
   "cell_type": "code",
   "execution_count": 42,
   "id": "d78d709b-2d84-41b5-a3f2-acca9d075837",
   "metadata": {},
   "outputs": [
    {
     "data": {
      "text/plain": [
       "array([ 6, 18])"
      ]
     },
     "execution_count": 60,
     "metadata": {},
     "output_type": "execute_result"
    }
   ],
   "source": [
    "\"\"\"44. For the given array, apply custom function to calculate moving sum along rows.\"\"\"\n",
    "def moving_sum(arr):\n",
    "    return np.apply_along_axis(np.sum,1,arr)\n",
    "arr = np.array([[1, 2, 3], [4, 8, 6]])\n",
    "moving_sum(arr)"
   ]
  },
  {
   "cell_type": "code",
   "execution_count": 4,
   "id": "8a21ea2b-57a9-4d6b-a969-05db863c9f4d",
   "metadata": {},
   "outputs": [
    {
     "name": "stdout",
     "output_type": "stream",
     "text": [
      "  all elements in column 0  is even\n",
      "  all elements in column 1  is even\n",
      "  all elements in column 2  is even\n"
     ]
    }
   ],
   "source": [
    "\"\"\"45. In the given array, check if all elements in each column are even \"\"\"\n",
    "arr = np.array([[2, 4, 6], [3, 5, 7]])\n",
    "for i in range(3):\n",
    "    if (arr[:,i] % 2 == 0).any():\n",
    "        print(\"  all elements in column\",i ,\" is even\")\n",
    "    else:\n",
    "        print(f\" not all the element in column\",i,\" are even\")"
   ]
  },
  {
   "cell_type": "code",
   "execution_count": 9,
   "id": "3fafa66e-a62b-4510-ae03-fbe9534d29e5",
   "metadata": {},
   "outputs": [
    {
     "data": {
      "text/plain": [
       "matrix([[1, 2, 3],\n",
       "        [4, 5, 6]])"
      ]
     },
     "execution_count": 9,
     "metadata": {},
     "output_type": "execute_result"
    }
   ],
   "source": [
    "\"\"\"46. Given a NumPy array arr, reshape it into a matrix of dimensions `m` rows and `n` columns. Return the\n",
    "reshaped matrix.\"\"\"\n",
    "original_array = np.array([1, 2, 3, 4, 5, 6])\n",
    "reshape_array = original_array.reshape(2,3)\n",
    "np.matrix(reshape_array) "
   ]
  },
  {
   "cell_type": "code",
   "execution_count": 11,
   "id": "bee615cc-d5ff-464f-a5b3-79e96b311a5c",
   "metadata": {},
   "outputs": [
    {
     "data": {
      "text/plain": [
       "array([1, 2, 3, 4, 5, 6])"
      ]
     },
     "execution_count": 11,
     "metadata": {},
     "output_type": "execute_result"
    }
   ],
   "source": [
    "\"\"\"47. Create a function that takes a matrix as input and returns the flattened array.\"\"\"\n",
    "input_matrix = np.array([[1, 2, 3], [4, 5, 6]])\n",
    "\n",
    "def flattened_array(input_matrix):\n",
    "    return input_matrix.flatten()\n",
    "\n",
    "flattened_array(input_matrix)"
   ]
  },
  {
   "cell_type": "code",
   "execution_count": 13,
   "id": "d9ada752-cba6-4078-bc6d-3006abe513f4",
   "metadata": {},
   "outputs": [
    {
     "data": {
      "text/plain": [
       "array([[1, 2, 5, 6],\n",
       "       [3, 4, 7, 8]])"
      ]
     },
     "execution_count": 13,
     "metadata": {},
     "output_type": "execute_result"
    }
   ],
   "source": [
    "\"\"\"48. Write a function that concatenates two given arrays along a specified axis.\"\"\"\n",
    "array1 = np.array([[1, 2], [3, 4]])\n",
    "array2 = np.array([[5, 6], [7, 8]])\n",
    "\n",
    "def concatenates(array1,array2):\n",
    "    return np.concatenate((array1,array2),axis =1)\n",
    "concatenates(array1,array2)"
   ]
  },
  {
   "cell_type": "code",
   "execution_count": 14,
   "id": "d5ee2701-343f-4d98-a94b-81f1043a951e",
   "metadata": {},
   "outputs": [
    {
     "data": {
      "text/plain": [
       "[array([[1],\n",
       "        [4],\n",
       "        [7]]),\n",
       " array([[2],\n",
       "        [5],\n",
       "        [8]]),\n",
       " array([[3],\n",
       "        [6],\n",
       "        [9]])]"
      ]
     },
     "execution_count": 14,
     "metadata": {},
     "output_type": "execute_result"
    }
   ],
   "source": [
    "\"\"\"49. Create a function that splits an array into multiple sub-arrays along a specified axis.\"\"\"\n",
    "original_array = np.array([[1, 2, 3], [4, 5, 6], [7, 8, 9]])\n",
    "def splits_array(original_array,axis):\n",
    "    return np.split(original_array , 3 , axis)\n",
    "\n",
    "splits_array(original_array,axis = 1)"
   ]
  },
  {
   "cell_type": "code",
   "execution_count": 3,
   "id": "6f65faf0-4221-4622-8a7f-6622dbd52214",
   "metadata": {},
   "outputs": [
    {
     "data": {
      "text/plain": [
       "array([ 1, 10,  4, 11,  5])"
      ]
     },
     "execution_count": 3,
     "metadata": {},
     "output_type": "execute_result"
    }
   ],
   "source": [
    "\"\"\"50. Write a function that inserts and then deletes elements from a given array at specified indices.\"\"\"\n",
    "original_array = np.array([1, 2, 3, 4, 5])\n",
    "indices_to_insert = [2, 4]\n",
    "values_to_insert = [10, 11]\n",
    "indices_to_delete = [1, 3]\n",
    "\n",
    "def insert_delete(original_array,indices_to_insert,values_to_insert,indices_to_delete):\n",
    "    new_arr = np.insert(original_array,indices_to_insert,values_to_insert)\n",
    "    new_arr = np.delete(new_arr,indices_to_delete)\n",
    "    return new_arr\n",
    "final_result = insert_delete(original_array,indices_to_insert,values_to_insert,indices_to_delete)\n",
    "final_result"
   ]
  },
  {
   "cell_type": "code",
   "execution_count": 54,
   "id": "f07a5fdd-94ff-4ec5-9b1e-0ab70163a5e5",
   "metadata": {},
   "outputs": [
    {
     "name": "stdout",
     "output_type": "stream",
     "text": [
      "arr1:-\n",
      " [[3 8 4]\n",
      " [4 1 6]\n",
      " [8 5 3]]\n",
      "arr2:-\n",
      " [[7 7 1]\n",
      " [1 5 6]\n",
      " [3 7 2]]\n"
     ]
    },
    {
     "data": {
      "text/plain": [
       "array([[10, 15,  5],\n",
       "       [ 5,  6, 12],\n",
       "       [11, 12,  5]])"
      ]
     },
     "execution_count": 54,
     "metadata": {},
     "output_type": "execute_result"
    }
   ],
   "source": [
    "\"\"\"51. Create a NumPy array `arr1` with random integers and another array `arr2` with integers from 1 to 10.\n",
    "Perform element-wise addition between `arr1` and `arr2`.\"\"\"\n",
    "arr1  = np.random.randint(1,10,(3,3))\n",
    "print(\"arr1:-\\n\",arr1)\n",
    "arr2  = np.random.randint(1,10,(3,3))\n",
    "print(\"arr2:-\\n\",arr2)\n",
    "np.add(arr1,arr2)\n"
   ]
  },
  {
   "cell_type": "code",
   "execution_count": 55,
   "id": "049899d5-e9c2-4c5c-b7d5-c8859a35f04c",
   "metadata": {},
   "outputs": [
    {
     "name": "stdout",
     "output_type": "stream",
     "text": [
      "arr1:-\n",
      " [10  9  8  7  6  5  4  3  2  1]\n",
      "arr2-\n",
      " [ 1  2  3  4  5  6  7  8  9 10]\n"
     ]
    },
    {
     "data": {
      "text/plain": [
       "array([-9, -7, -5, -3, -1,  1,  3,  5,  7,  9])"
      ]
     },
     "execution_count": 55,
     "metadata": {},
     "output_type": "execute_result"
    }
   ],
   "source": [
    "\"\"\"52. Generate a NumPy array `arr1` with sequential integers from 10 to 1 and another array `arr2` with integers\n",
    "from 1 to 10. Subtract `arr2` from `arr1` element-wise.\"\"\"\n",
    "arr1 = np.arange(10,0,-1)\n",
    "print(\"arr1:-\\n\",arr1)\n",
    "arr2 = np.arange(1,11,1)\n",
    "print(\"arr2-\\n\",arr2)\n",
    "np.subtract(arr2,arr1)"
   ]
  },
  {
   "cell_type": "code",
   "execution_count": 43,
   "id": "50076c95-773e-4308-bd88-5f030cfb095a",
   "metadata": {},
   "outputs": [
    {
     "name": "stdout",
     "output_type": "stream",
     "text": [
      "arr1 :-\n",
      " [[4 1 4]\n",
      " [4 3 3]\n",
      " [2 2 1]]\n",
      "arr2:- \n",
      " [[3 4 3]\n",
      " [4 4 2]\n",
      " [3 1 1]]\n"
     ]
    },
    {
     "data": {
      "text/plain": [
       "array([[12,  4, 12],\n",
       "       [16, 12,  6],\n",
       "       [ 6,  2,  1]])"
      ]
     },
     "execution_count": 43,
     "metadata": {},
     "output_type": "execute_result"
    }
   ],
   "source": [
    "\"\"\"53. Create a NumPy array `arr1` with random integers and another array `arr2` with integers from 1 to 5.\n",
    "Perform element-wise multiplication between `arr1` and `arr2`.\"\"\"\n",
    "arr1 = np.random.randint(1,5,(3,3))\n",
    "print(\"arr1 :-\\n\",arr1)\n",
    "arr2 = np.random.randint(1,5,(3,3))\n",
    "print(\"arr2:- \\n\",arr2)\n",
    "np.multiply(arr1,arr2)"
   ]
  },
  {
   "cell_type": "code",
   "execution_count": 48,
   "id": "5f1efa7c-c3b2-47fc-8943-1c39c8ed9603",
   "metadata": {},
   "outputs": [
    {
     "name": "stdout",
     "output_type": "stream",
     "text": [
      "arr1 :-\n",
      " [ 2  4  6  8 10]\n",
      "arr2:- \n",
      " [1 2 3 4 5]\n"
     ]
    },
    {
     "data": {
      "text/plain": [
       "array([2., 2., 2., 2., 2.])"
      ]
     },
     "execution_count": 48,
     "metadata": {},
     "output_type": "execute_result"
    }
   ],
   "source": [
    "\"\"\"54. Generate a NumPy array `arr1` with even integers from 2 to 10 and another array `arr2` with integers from 1\n",
    "to 5. Perform element-wise division of `arr1` by `arr2`.\"\"\"\n",
    "arr1 = np.arange(2,11,2)\n",
    "print(\"arr1 :-\\n\",arr1)\n",
    "arr2 = np.arange(1,6,1)\n",
    "print(\"arr2:- \\n\",arr2)\n",
    "arr1/arr2"
   ]
  },
  {
   "cell_type": "code",
   "execution_count": 53,
   "id": "caa81f3a-cbb0-4844-b62b-a86d42ebccc2",
   "metadata": {},
   "outputs": [
    {
     "name": "stdout",
     "output_type": "stream",
     "text": [
      "arr1 :-\n",
      " [1 2 3 4 5]\n",
      "arr2:- \n",
      " [5 4 3 2 1]\n"
     ]
    },
    {
     "data": {
      "text/plain": [
       "array([ 1, 16, 27, 16,  5])"
      ]
     },
     "execution_count": 53,
     "metadata": {},
     "output_type": "execute_result"
    }
   ],
   "source": [
    "\"\"\"55. Create a NumPy array `arr1` with integers from 1 to 5 and another array `arr2` with the same numbers\n",
    "reversed. Calculate the exponentiation of `arr1` raised to the power of `arr2` element-wise.\"\"\"\n",
    "arr1 = np.arange(1,6)\n",
    "print(\"arr1 :-\\n\",arr1)\n",
    "arr2 = np.arange(5,0,-1)\n",
    "print(\"arr2:- \\n\",arr2)\n",
    "np.power(arr1,arr2)"
   ]
  },
  {
   "cell_type": "code",
   "execution_count": 61,
   "id": "0904266b-db23-4ce4-8b4c-40a780195212",
   "metadata": {},
   "outputs": [
    {
     "name": "stdout",
     "output_type": "stream",
     "text": [
      "ocurence of o is 2 times in array string\n"
     ]
    }
   ],
   "source": [
    "\"\"\"56. Write a function that counts the occurrences of a specific substring within a NumPy array of strings.\"\"\"\n",
    "def count_occurence_substring(arr,substring):\n",
    "    count = 0\n",
    "    for string in arr:\n",
    "        count += string.count(substring)\n",
    "    return count\n",
    "arr = np.array(['Hello', 'World', 'OpenAI', 'GPT'])\n",
    "substring = \"o\"\n",
    "occurence = count_occurence_substring(arr,substring)\n",
    "print(f\"ocurence of {substring} is {occurence} times in array string\")"
   ]
  },
  {
   "cell_type": "code",
   "execution_count": 71,
   "id": "0ef19c95-4944-4ce8-ad9b-05d3db48c5c2",
   "metadata": {},
   "outputs": [
    {
     "data": {
      "text/plain": [
       "array(['HELLO', 'WORLD', 'OPENAI', 'GPT'], dtype='<U6')"
      ]
     },
     "execution_count": 71,
     "metadata": {},
     "output_type": "execute_result"
    }
   ],
   "source": [
    "\"\"\"57. Write a function that extracts uppercase characters from a NumPy array of strings.\"\"\"\n",
    "arr = np.array(['Hello', 'World', 'OpenAI', 'GPT'])\n",
    "def extract_uppercase_character(arr):\n",
    "    return np.char.upper(arr)\n",
    "\n",
    "extract_uppercase_character(arr)\n",
    "           \n",
    "    \n"
   ]
  },
  {
   "cell_type": "code",
   "execution_count": 73,
   "id": "e2386a9a-33d0-48eb-8f2d-270a30bac998",
   "metadata": {},
   "outputs": [
    {
     "data": {
      "text/plain": [
       "array(['papaya', 'banana', 'grape', 'pinepapaya'], dtype='<U10')"
      ]
     },
     "execution_count": 73,
     "metadata": {},
     "output_type": "execute_result"
    }
   ],
   "source": [
    "\"\"\"58. Write a function that replaces occurrences of a substring in a NumPy array of strings with a new string.\"\"\"\n",
    "\n",
    "arr = np.array(['apple', 'banana', 'grape', 'pineapple'])\n",
    "\n",
    "def replace_substring(arr,substring,newstring):\n",
    "     return np.char.replace(arr,substring,newstring)\n",
    "    \n",
    "new_arr = replace_substring(arr,\"apple\",\"papaya\")\n",
    "new_arr\n",
    "    \n",
    "    \n",
    "\n"
   ]
  },
  {
   "cell_type": "code",
   "execution_count": 82,
   "id": "6330930c-7d63-40fd-ab95-c6091221cbc1",
   "metadata": {},
   "outputs": [
    {
     "data": {
      "text/plain": [
       "array(['HelloOpen', 'WorldAI'], dtype='<U9')"
      ]
     },
     "execution_count": 82,
     "metadata": {},
     "output_type": "execute_result"
    }
   ],
   "source": [
    "\"\"\"59. Write a function that concatenates strings in a NumPy array element-wise.\"\"\"\n",
    "arr1 = np.array(['Hello', 'World'])\n",
    "arr2 = np.array(['Open', 'AI'])\n",
    "def concatenate_strings(arr1,arr2):\n",
    "    return np.char.add(arr1,arr2)\n",
    "\n",
    "result = concatenate_strings(arr1,arr2)\n",
    "result"
   ]
  },
  {
   "cell_type": "code",
   "execution_count": 84,
   "id": "a0879f64-fa55-4257-af15-dce544aeca43",
   "metadata": {},
   "outputs": [
    {
     "data": {
      "text/plain": [
       "'pineapple'"
      ]
     },
     "execution_count": 84,
     "metadata": {},
     "output_type": "execute_result"
    }
   ],
   "source": [
    "\"\"\"60. Write a function that finds the length of the longest string in a NumPy array.\"\"\"\n",
    "\n",
    "arr = np.array(['apple', 'banana', 'grape', 'pineapple'])\n",
    "\n",
    "def longest_string(arr):\n",
    "    return max(arr,key = len)\n",
    "\n",
    "longest_string(arr)"
   ]
  },
  {
   "cell_type": "code",
   "execution_count": 23,
   "id": "38d6ac94-1482-4c53-949d-133ec6f8743c",
   "metadata": {},
   "outputs": [
    {
     "name": "stdout",
     "output_type": "stream",
     "text": [
      "[720 101 979 715  85 360 836 619 397 712 685 836   5 989  60 368 938  76\n",
      "  56 419 739 267 746 531 769 472 134 283 870 302 730 764 298 933 515 691\n",
      " 158 253 217 887 405 941 185 556 259 298 189 305 143 891 940 812 937 254\n",
      "  39 279 573 294 505 506 362 129 491 520 189  74 150 309 323 760 125 602\n",
      " 176 556 947 126 956 992 267 204 731 920 938 890 532 903 843 114 205 265\n",
      " 227 957 720 925 170 770 138 676 401 536]\n",
      "mean:- 499.45\n",
      "median:- 498.0\n",
      "variance:- 92426.88749999998\n",
      "standard deviation :- 304.0179065449928\n"
     ]
    }
   ],
   "source": [
    "\"\"\"61. Create a dataset of 100 random integers between 1 and 1000. Compute the mean, median, variance, and\n",
    "standard deviation of the dataset using NumPy's functions.\"\"\"\n",
    "dataset = np.random.randint(1,1000,(100))\n",
    "print(dataset)\n",
    "print(\"mean:-\",np.mean(dataset))\n",
    "print(\"median:-\",np.median(dataset))\n",
    "print(\"variance:-\",np.var(dataset))\n",
    "print(\"standard deviation :-\",np.std(dataset))"
   ]
  },
  {
   "cell_type": "code",
   "execution_count": 27,
   "id": "58f7d2e8-b93d-4346-ad15-729e525df244",
   "metadata": {},
   "outputs": [
    {
     "name": "stdout",
     "output_type": "stream",
     "text": [
      "[77 52 45 24 66 75 19 74 26 52 16 62 46 15 27 19  4 43 12  6 85 67 17 73\n",
      " 56 40 42 92 72  7  9  8  9 60 58 97 80 57 79  1 46 26 41 38  3 57 57 33\n",
      " 88 92]\n",
      "25th percentile of dataset :- 19.0\n",
      "75th percentile of dataset :- 66.75\n"
     ]
    }
   ],
   "source": [
    "\"\"\"62. Generate an array of 50 random numbers between 1 and 100. Find the 25th and 75th percentiles of the\n",
    "dataset\"\"\"\n",
    "dataset  = np.random.randint(1,100,50)\n",
    "print(dataset)\n",
    "print(\"25th percentile of dataset :-\",np.percentile(dataset,25))\n",
    "print(\"75th percentile of dataset :-\",np.percentile(dataset,75))"
   ]
  },
  {
   "cell_type": "code",
   "execution_count": 30,
   "id": "1044741a-2363-4a12-be6a-841924dadae1",
   "metadata": {},
   "outputs": [
    {
     "data": {
      "text/plain": [
       "array([[ 1., -1.],\n",
       "       [-1.,  1.]])"
      ]
     },
     "execution_count": 30,
     "metadata": {},
     "output_type": "execute_result"
    }
   ],
   "source": [
    "\"\"\"63. Create two arrays representing two sets of variables. Compute the correlation coefficient between these\n",
    "arrays using NumPy's `corrcoef` function.\"\"\"\n",
    "arr1 = np.array([1,2,3,4,5])\n",
    "arr2 = np.array([5,4,3,2,1])\n",
    "np.corrcoef(arr1,arr2)"
   ]
  },
  {
   "cell_type": "code",
   "execution_count": 33,
   "id": "9ad2600e-0393-4968-ac72-fa71fa8054b1",
   "metadata": {},
   "outputs": [
    {
     "name": "stdout",
     "output_type": "stream",
     "text": [
      "arr1:- \n",
      " [[4 8 3]\n",
      " [3 8 5]\n",
      " [9 3 4]]\n",
      "arr2:- \n",
      " [[1 5 4]\n",
      " [8 9 8]\n",
      " [8 8 5]]\n"
     ]
    },
    {
     "data": {
      "text/plain": [
       "array([[ 92, 116,  95],\n",
       "       [107, 127, 101],\n",
       "       [ 65, 104,  80]])"
      ]
     },
     "execution_count": 33,
     "metadata": {},
     "output_type": "execute_result"
    }
   ],
   "source": [
    "\"\"\"64. Create two matrices and perform matrix multiplication using NumPy's `dot` function.\"\"\"\n",
    "arr1 = np.random.randint(1,10,(3,3))\n",
    "print(\"arr1:- \\n\",arr1)\n",
    "arr2 = np.random.randint(1,10,(3,3))\n",
    "print(\"arr2:- \\n\",arr2)\n",
    "np.dot(arr1,arr2)"
   ]
  },
  {
   "cell_type": "code",
   "execution_count": 2,
   "id": "d8df9b6b-b20c-47fa-be30-2fee66bd537f",
   "metadata": {},
   "outputs": [
    {
     "name": "stdout",
     "output_type": "stream",
     "text": [
      "10th, 50th(median) and 90th percentile are :-  [148.7 590.5 895.9]\n",
      "first and third quartiles are :- [344.75 746.5 ]\n"
     ]
    }
   ],
   "source": [
    "\"\"\"65. Create an array of 50 integers between 10 and 1000. Calculate the 10th, 50th (median), and 90th\n",
    "percentiles along with the first and third quartiles.\"\"\"\n",
    "array = np.random.randint(10,1000,50)\n",
    "\n",
    "print(\"10th, 50th(median) and 90th percentile are :- \",np.percentile(array,[10,50,90]))\n",
    "print(\"first and third quartiles are :-\", np.percentile(array,[25,75]))"
   ]
  },
  {
   "cell_type": "code",
   "execution_count": 32,
   "id": "9e057008-b20e-4889-bcdb-3876d972d514",
   "metadata": {},
   "outputs": [
    {
     "data": {
      "text/plain": [
       "(array([4]),)"
      ]
     },
     "execution_count": 32,
     "metadata": {},
     "output_type": "execute_result"
    }
   ],
   "source": [
    "\"\"\"66. Create a NumPy array of integers and find the index of a specific element.\"\"\"\n",
    "array = np.array([1,2,3,4,5,6,7,8,9])\n",
    "np.where(array==5)\n"
   ]
  },
  {
   "cell_type": "code",
   "execution_count": 43,
   "id": "979cc771-2632-4d88-aa09-ae73c23f154e",
   "metadata": {},
   "outputs": [
    {
     "data": {
      "text/plain": [
       "array([[0.0620962 , 0.17246997, 0.29799357, 0.36187084, 0.37550983,\n",
       "        0.44287497, 0.60730298, 0.8538641 , 0.88039624, 0.9844342 ]])"
      ]
     },
     "execution_count": 43,
     "metadata": {},
     "output_type": "execute_result"
    }
   ],
   "source": [
    "\"\"\"67. Generate a random NumPy array and sort it in ascending order.\"\"\"\n",
    "arr = np.random.rand(1,10)\n",
    "np.sort(arr)"
   ]
  },
  {
   "cell_type": "code",
   "execution_count": 50,
   "id": "60e35ae2-080a-4763-86c5-55672bb5e5ab",
   "metadata": {},
   "outputs": [
    {
     "data": {
      "text/plain": [
       "array([25, 42, 30])"
      ]
     },
     "execution_count": 50,
     "metadata": {},
     "output_type": "execute_result"
    }
   ],
   "source": [
    "\"\"\"68. Filter elements >20  in the given NumPy array\"\"\"\n",
    "arr = np.array([12, 25, 6, 42, 8, 30])\n",
    "#filtered_array = arr[arr>20]\n",
    "filterd_array = np.extract(arr>20,arr)\n",
    "filterd_array"
   ]
  },
  {
   "cell_type": "code",
   "execution_count": 53,
   "id": "d895a263-c47b-41ab-a21e-b2448b8fe3ff",
   "metadata": {},
   "outputs": [
    {
     "data": {
      "text/plain": [
       "array([12, 15])"
      ]
     },
     "execution_count": 53,
     "metadata": {},
     "output_type": "execute_result"
    }
   ],
   "source": [
    "\"\"\"69. Filter elements which are divisible by 3 from a given NumPy array.\"\"\"\n",
    "arr = np.array([1, 5, 8, 12, 15])\n",
    "#filtered_array = arr[arr%3==0]\n",
    "arr = np.array([1, 5, 8, 12, 15])\n",
    "filterd_array = np.extract(arr%3 == 0 ,arr)\n",
    "filterd_array"
   ]
  },
  {
   "cell_type": "code",
   "execution_count": 67,
   "id": "d0704ca5-a4dc-4cb7-bbf0-4ef006216536",
   "metadata": {},
   "outputs": [
    {
     "data": {
      "text/plain": [
       "array([20, 30, 40])"
      ]
     },
     "execution_count": 67,
     "metadata": {},
     "output_type": "execute_result"
    }
   ],
   "source": [
    "\"\"\"70. Filter elements which are ≥ 20 and ≤ 40 from a given NumPy array.\"\"\"\n",
    "arr = np.array([10, 20, 30, 40, 50])\n",
    "#filterd_array = (arr[(arr >= 20) & (arr <= 40)])\n",
    "\n",
    "filterd_array = np.extract([(arr>=20) & (arr<=40)],arr)\n",
    "filterd_array"
   ]
  },
  {
   "cell_type": "code",
   "execution_count": 72,
   "id": "bb828bd0-4adb-4cd4-9e2d-6c02842cb094",
   "metadata": {},
   "outputs": [
    {
     "data": {
      "text/plain": [
       "'='"
      ]
     },
     "execution_count": 72,
     "metadata": {},
     "output_type": "execute_result"
    }
   ],
   "source": [
    "\"\"\"71. For the given NumPy array, check its byte order using the `dtype` attribute byteorder.\"\"\"\n",
    "arr = np.array([1, 2, 3])\n",
    "arr.dtype.byteorder"
   ]
  },
  {
   "cell_type": "code",
   "execution_count": 74,
   "id": "b1cfb4bd-39e0-4484-a2da-d8136ef45330",
   "metadata": {},
   "outputs": [
    {
     "data": {
      "text/plain": [
       "array([16777216, 33554432, 50331648], dtype=int32)"
      ]
     },
     "execution_count": 74,
     "metadata": {},
     "output_type": "execute_result"
    }
   ],
   "source": [
    "\"\"\"72. For the given NumPy array, perform byte swapping in place using `byteswap()`.\"\"\"\n",
    "arr = np.array([1, 2, 3], dtype=np.int32)\n",
    "arr.byteswap()"
   ]
  },
  {
   "cell_type": "code",
   "execution_count": 75,
   "id": "b8233160-16b0-43a8-b49b-34deaa5c5e61",
   "metadata": {},
   "outputs": [
    {
     "data": {
      "text/plain": [
       "array([16777216, 33554432, 50331648], dtype=int32)"
      ]
     },
     "execution_count": 75,
     "metadata": {},
     "output_type": "execute_result"
    }
   ],
   "source": [
    "\"\"\"73. For the given NumPy array, swap its byte order without modifying the original array using\n",
    "`newbyteorder()`.\"\"\"\n",
    "arr = np.array([1, 2, 3], dtype=np.int32)\n",
    "arr.newbyteorder()"
   ]
  },
  {
   "cell_type": "code",
   "execution_count": 78,
   "id": "adbac266-3bd5-4c7b-8e56-c69561a24a0c",
   "metadata": {},
   "outputs": [
    {
     "data": {
      "text/plain": [
       "array([16777216, 33554432, 50331648], dtype=int32)"
      ]
     },
     "execution_count": 78,
     "metadata": {},
     "output_type": "execute_result"
    }
   ],
   "source": [
    "\"\"\"74. For the given NumPy array and swap its byte order conditionally based on system endianness using\n",
    "`newbyteorder()`.\"\"\"\n",
    "arr = np.array([1, 2, 3], dtype=np.int32)\n",
    "if arr.dtype.byteorder == '=':\n",
    "    new_arr = arr.byteswap()\n",
    "else:\n",
    "    new_arr = arr.newbyteorder()\n",
    "\n",
    "new_arr"
   ]
  },
  {
   "cell_type": "code",
   "execution_count": 80,
   "id": "96675779-9ce8-43a9-a522-3d17c4503bc5",
   "metadata": {},
   "outputs": [
    {
     "name": "stdout",
     "output_type": "stream",
     "text": [
      "Byte swapping is not necessary. The array is already in the system's native byte order.\n"
     ]
    }
   ],
   "source": [
    "\"\"\"75. For the given NumPy array, check if byte swapping is necessary for the current system using `dtype`\n",
    "attribute `byteorder`.\"\"\"\n",
    "arr = np.array([1, 2, 3], dtype=np.int32)\n",
    "\n",
    "if arr.dtype.byteorder == '=':\n",
    "    print(\"Byte swapping is not necessary. The array is already in the system's native byte order.\")\n",
    "else:\n",
    "    print(\"Byte swapping is necessary. The array is not in the system's native byte order.\")\n"
   ]
  },
  {
   "cell_type": "code",
   "execution_count": 13,
   "id": "02f56666-5d00-45e1-9b9f-e92323d98a5d",
   "metadata": {},
   "outputs": [
    {
     "name": "stdout",
     "output_type": "stream",
     "text": [
      "array:- [ 1  2  3  4  5  6  7  8  9 10]\n",
      "copy array :- [ 5  2  3  4  5  6  7  8  9 10]\n",
      "again print the array1 :- [ 5  2  3  4  5  6  7  8  9 10]\n",
      "array 2 :- [1 2 3 4 5]\n",
      "copy array2 :- [500   2   3   4   5]\n"
     ]
    },
    {
     "data": {
      "text/plain": [
       "array([1, 2, 3, 4, 5])"
      ]
     },
     "execution_count": 13,
     "metadata": {},
     "output_type": "execute_result"
    }
   ],
   "source": [
    "\"\"\"76. Create a NumPy array `arr1` with values from 1 to 10. Create a copy of `arr1` named `copy_arr` and modify\n",
    "an element in `copy_arr`. Check if modifying `copy_arr` affects `arr1`.\"\"\"\n",
    "arr1 = np.arange(1,11)\n",
    "print(\"array:-\",arr1)\n",
    "copy_arr = arr1\n",
    "copy_arr[0] = 5\n",
    "print(\"copy array :-\",copy_arr)\n",
    "print(\"again print the array1 :-\",arr1) #hence we change in copy_arr but it also changed in arr\n",
    "\n",
    "# if we make a deep copy of array\n",
    "arr2 = np.array([1,2,3,4,5])\n",
    "print(\"array 2 :-\",arr2)\n",
    "copy_arr2 = arr2.copy()\n",
    "copy_arr2[0] = 500\n",
    "print(\"copy array2 :-\",copy_arr2)\n",
    "arr2 #we can see that if we change in copy_array there is no change in original array "
   ]
  },
  {
   "cell_type": "code",
   "execution_count": 30,
   "id": "451526a0-edd5-40e4-9982-6b5cd375166f",
   "metadata": {},
   "outputs": [
    {
     "name": "stdout",
     "output_type": "stream",
     "text": [
      "array:- \n",
      " [[2 6 1]\n",
      " [9 9 5]\n",
      " [9 9 4]]\n",
      "view slice :- \n",
      " [[6 1]\n",
      " [9 5]]\n",
      "after modification:-\n",
      " [[500   1]\n",
      " [  9   5]]\n"
     ]
    },
    {
     "data": {
      "text/plain": [
       "array([[2, 6, 1],\n",
       "       [9, 9, 5],\n",
       "       [9, 9, 4]])"
      ]
     },
     "execution_count": 30,
     "metadata": {},
     "output_type": "execute_result"
    }
   ],
   "source": [
    "\"\"\"77. Create a 2D NumPy array `matrix` of shape (3, 3) with random integers. Extract a slice `view_slice` from\n",
    "the matrix. Modify an element in `view_slice` and observe if it changes the original `matrix`.\"\"\"\n",
    "\n",
    "arr = np.random.randint(1,10,(3,3))\n",
    "print(\"array:- \\n\",arr)\n",
    "\n",
    "view_slice = arr[0:2,(1,2)]\n",
    "print(\"view slice :- \\n\",view_slice)\n",
    "\n",
    "view_slice[0][0] = 500\n",
    "print(\"after modification:-\\n\",view_slice)\n",
    "\n",
    "arr # there is no any change in original array"
   ]
  },
  {
   "cell_type": "code",
   "execution_count": 46,
   "id": "368ab041-b58a-43c4-98d0-f8c6eaea76ff",
   "metadata": {},
   "outputs": [
    {
     "name": "stdout",
     "output_type": "stream",
     "text": [
      "arra_a :- \n",
      " [[ 6 12  9]\n",
      " [11  5  5]\n",
      " [12  8 10]\n",
      " [ 4  8 11]]\n",
      "view_b :-\n",
      " [[ 6 12  9]\n",
      " [11  5  5]\n",
      " [12  8 10]]\n",
      "after addition of 5:-\n",
      " [[11 17 14]\n",
      " [16 10 10]\n",
      " [17 13 15]]\n",
      "array_a :-\n",
      " [[ 6 12  9]\n",
      " [11  5  5]\n",
      " [12  8 10]\n",
      " [ 4  8 11]]\n"
     ]
    }
   ],
   "source": [
    "\"\"\"78. Create a NumPy array `array_a` of shape (4, 3) with sequential integers from 1 to 12. Extract a slice\n",
    "`view_b` from `array_a` and broadcast the addition of 5 to view_b. Check if it alters the original `array_a`.\"\"\"\n",
    "array_a = np.random.randint(1,13,(4,3))\n",
    "print(\"arra_a :- \\n\",array_a)\n",
    "view_b = array_a[0:3,(0,1,2)]\n",
    "print(\"view_b :-\\n\",view_b)\n",
    "view_b = view_b+5\n",
    "print(\"after addition of 5:-\\n\",view_b)\n",
    "\n",
    "print(\"array_a :-\\n\",array_a)"
   ]
  },
  {
   "cell_type": "code",
   "execution_count": 52,
   "id": "78417569-28c4-4eae-ae67-c794f19621d7",
   "metadata": {},
   "outputs": [
    {
     "name": "stdout",
     "output_type": "stream",
     "text": [
      "original array is :- \n",
      " [[1 3 5 7]\n",
      " [8 8 6 3]]\n",
      "rehaped array is :- \n",
      " [[1 3]\n",
      " [5 7]\n",
      " [8 8]\n",
      " [6 3]]\n",
      "after modification :-\n",
      " [[500 500]\n",
      " [  5   7]\n",
      " [  8   8]\n",
      " [  6   3]]\n",
      "original array is :-\n",
      " [[500 500   5   7]\n",
      " [  8   8   6   3]]\n"
     ]
    }
   ],
   "source": [
    "\"\"\"79. Create a NumPy array `orig_array` of shape (2, 4) with values from 1 to 8. Create a reshaped view\n",
    "`reshaped_view` of shape (4, 2) from orig_array. Modify an element in `reshaped_view` and check if it\n",
    "reflects changes in the original `orig_array`.\"\"\"\n",
    "orig_array = np.random.randint(1,9,(2,4))\n",
    "print(\"original array is :- \\n\",orig_array)\n",
    "reshaped_view = orig_array.reshape(4,2)\n",
    "print(\"rehaped array is :- \\n\",reshaped_view)\n",
    "reshaped_view[0] = 500\n",
    "print(\"after modification :-\\n\",reshaped_view)\n",
    "print(\"original array is :-\\n\",orig_array) # hence if we any change in reshaped view there is also change in original array "
   ]
  },
  {
   "cell_type": "code",
   "execution_count": 59,
   "id": "80316563-c860-490c-9599-f4196b88b840",
   "metadata": {},
   "outputs": [
    {
     "name": "stdout",
     "output_type": "stream",
     "text": [
      "original array is :- \n",
      " [[ 3  4  2  9]\n",
      " [ 2 10  3  8]\n",
      " [ 4 10  6  4]]\n",
      "data copy is :-\n",
      " [ 9 10  8 10  6]\n",
      "after modification of data copy :-\n",
      " [1000   10    8   10    6]\n",
      "original array is :-\n",
      " [[ 3  4  2  9]\n",
      " [ 2 10  3  8]\n",
      " [ 4 10  6  4]]\n"
     ]
    }
   ],
   "source": [
    "\"\"\"80. Create a NumPy array `data` of shape (3, 4) with random integers. Extract a copy `data_copy` of\n",
    "elements greater than 5. Modify an element in `data_copy` and verify if it affects the original `data`.\"\"\"\n",
    "arr = np.random.randint(1,11,(3,4))\n",
    "print(\"original array is :- \\n\",arr)\n",
    "data_copy = arr.copy()\n",
    "data_copy = np.extract(arr>5,arr)\n",
    "print(\"data copy is :-\\n\",data_copy)\n",
    "data_copy[0] = 1000\n",
    "print(\"after modification of data copy :-\\n\",data_copy)\n",
    "print(\"original array is :-\\n\",arr)# there is no any changer in original array"
   ]
  },
  {
   "cell_type": "code",
   "execution_count": 69,
   "id": "df666d1d-bba1-45a2-b328-ae30a8c519d4",
   "metadata": {},
   "outputs": [
    {
     "name": "stdout",
     "output_type": "stream",
     "text": [
      "matrix A is :-\n",
      " [[2 2 3]\n",
      " [6 8 8]\n",
      " [2 7 4]]\n",
      "matrix B is :-\n",
      " [[1 8 1]\n",
      " [1 1 6]\n",
      " [4 4 1]]\n",
      "addition of matrix A and B :-\n",
      " [[ 3 10  4]\n",
      " [ 7  9 14]\n",
      " [ 6 11  5]]\n",
      "subtraction of matrix A and B :-\n",
      " [[ 1 -6  2]\n",
      " [ 5  7  2]\n",
      " [-2  3  3]]\n"
     ]
    }
   ],
   "source": [
    "\"\"\"81. Create two matrices A and B of identical shape containing integers and perform addition and subtraction\n",
    "operations between them.\"\"\"\n",
    "A = np.random.randint(1,10,(3,3))\n",
    "print(\"matrix A is :-\\n\",A)\n",
    "B = np.random.randint(1,10,(3,3))\n",
    "print(\"matrix B is :-\\n\",B)\n",
    "print(\"addition of matrix A and B :-\\n\",np.add(A,B))\n",
    "print(\"subtraction of matrix A and B :-\\n\",np.subtract(A,B))\n"
   ]
  },
  {
   "cell_type": "code",
   "execution_count": 72,
   "id": "8551b225-64af-450a-92dc-f0348fdc9ae6",
   "metadata": {},
   "outputs": [
    {
     "name": "stdout",
     "output_type": "stream",
     "text": [
      "matrix C is :-\n",
      " [[5 7]\n",
      " [3 7]\n",
      " [3 8]]\n",
      "matrix D is :-\n",
      " [[5 5 8 5]\n",
      " [2 6 3 9]]\n",
      "multipication of matrix C and D are :-\n",
      " [[39 67 61 88]\n",
      " [29 57 45 78]\n",
      " [31 63 48 87]]\n"
     ]
    }
   ],
   "source": [
    "\"\"\"82. Generate two matrices `C` (3x2) and `D` (2x4) and perform matrix multiplication.\"\"\"\n",
    "C = np.random.randint(1,10,(3,2))\n",
    "print(\"matrix C is :-\\n\",C)\n",
    "\n",
    "D = np.random.randint(1,10,(2,4))\n",
    "print(\"matrix D is :-\\n\",D)\n",
    "\n",
    "print(\"multipication of matrix C and D are :-\\n\",np.dot(C,D))\n",
    "\n"
   ]
  },
  {
   "cell_type": "code",
   "execution_count": 75,
   "id": "5143f6cf-8d4d-405d-a2dd-9df996f7f3e8",
   "metadata": {},
   "outputs": [
    {
     "name": "stdout",
     "output_type": "stream",
     "text": [
      "matrix  is :-\n",
      " [[8 7]\n",
      " [1 1]\n",
      " [9 4]\n",
      " [7 9]]\n",
      "transpose of matrix is :-\n",
      " [[8 1 9 7]\n",
      " [7 1 4 9]]\n"
     ]
    }
   ],
   "source": [
    "\"\"\"83. Create a matrix `E` and find its transpose.\"\"\"\n",
    "matrix = np.random.randint(1,10,(4,2))\n",
    "print(\"matrix  is :-\\n\",matrix)\n",
    "\n",
    "\n",
    "print(\"transpose of matrix is :-\\n\",matrix.T)\n"
   ]
  },
  {
   "cell_type": "code",
   "execution_count": 77,
   "id": "1c867e78-37ef-4dd7-a4c6-fd14748f7703",
   "metadata": {},
   "outputs": [
    {
     "name": "stdout",
     "output_type": "stream",
     "text": [
      "matrix  is :-\n",
      " [[6 9 6]\n",
      " [9 2 1]\n",
      " [3 8 2]]\n",
      "determinant of square matrix are :-\n",
      " 237.00000000000009\n"
     ]
    }
   ],
   "source": [
    "\"\"\"84. Generate a square matrix `F` and compute its determinant.\"\"\"\n",
    "matrix = np.random.randint(1,10,(3,3))\n",
    "print(\"matrix  is :-\\n\",matrix)\n",
    "print(\"determinant of square matrix are :-\\n\",np.linalg.det(matrix))"
   ]
  },
  {
   "cell_type": "code",
   "execution_count": 78,
   "id": "a3c81a79-a02d-4d49-a557-4ca828bd2723",
   "metadata": {},
   "outputs": [
    {
     "name": "stdout",
     "output_type": "stream",
     "text": [
      "matrix  is :-\n",
      " [[4 6 6]\n",
      " [7 9 8]\n",
      " [3 8 9]]\n",
      "inverse of square matrix are :-\n",
      " [[ 2.125 -0.75  -0.75 ]\n",
      " [-4.875  2.25   1.25 ]\n",
      " [ 3.625 -1.75  -0.75 ]]\n"
     ]
    }
   ],
   "source": [
    "\"\"\"85. Create a square matrix `G` and find its inverse.\"\"\"\n",
    "matrix = np.random.randint(1,10,(3,3))\n",
    "print(\"matrix  is :-\\n\",matrix)\n",
    "print(\"inverse of square matrix are :-\\n\",np.linalg.inv(matrix))"
   ]
  },
  {
   "cell_type": "code",
   "execution_count": null,
   "id": "26cd387e-10b4-41d9-a3a2-3dd2df97c296",
   "metadata": {},
   "outputs": [],
   "source": []
  }
 ],
 "metadata": {
  "kernelspec": {
   "display_name": "Python 3 (ipykernel)",
   "language": "python",
   "name": "python3"
  },
  "language_info": {
   "codemirror_mode": {
    "name": "ipython",
    "version": 3
   },
   "file_extension": ".py",
   "mimetype": "text/x-python",
   "name": "python",
   "nbconvert_exporter": "python",
   "pygments_lexer": "ipython3",
   "version": "3.10.8"
  }
 },
 "nbformat": 4,
 "nbformat_minor": 5
}
